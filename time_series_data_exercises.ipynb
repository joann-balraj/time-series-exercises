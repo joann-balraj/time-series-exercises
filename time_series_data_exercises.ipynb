{
 "cells": [
  {
   "cell_type": "code",
   "execution_count": 92,
   "id": "aa54092a",
   "metadata": {},
   "outputs": [],
   "source": [
    "import pandas as pd\n",
    "import numpy as np\n",
    "import datetime\n",
    "from datetime import datetime\n",
    "\n",
    "\n",
    "import matplotlib.pyplot as plt\n",
    "import seaborn as sns\n",
    "sns.set()\n",
    "\n",
    "# set figure size\n",
    "plt.rcParams[\"figure.figsize\"] = (8,6)\n",
    "\n",
    "# specify decimal places to display\n",
    "pd.set_option('display.float_format', lambda x: '%.2f' % x)"
   ]
  },
  {
   "cell_type": "markdown",
   "id": "000c4cd8",
   "metadata": {},
   "source": [
    "# Time Series Analysis: Working With Time Series Data\n",
    "___\n",
    "\n",
    "## Exercises:"
   ]
  },
  {
   "cell_type": "code",
   "execution_count": 93,
   "id": "da14bff0",
   "metadata": {},
   "outputs": [
    {
     "data": {
      "text/html": [
       "<div>\n",
       "<style scoped>\n",
       "    .dataframe tbody tr th:only-of-type {\n",
       "        vertical-align: middle;\n",
       "    }\n",
       "\n",
       "    .dataframe tbody tr th {\n",
       "        vertical-align: top;\n",
       "    }\n",
       "\n",
       "    .dataframe thead th {\n",
       "        text-align: right;\n",
       "    }\n",
       "</style>\n",
       "<table border=\"1\" class=\"dataframe\">\n",
       "  <thead>\n",
       "    <tr style=\"text-align: right;\">\n",
       "      <th></th>\n",
       "      <th>temp</th>\n",
       "      <th>date</th>\n",
       "    </tr>\n",
       "  </thead>\n",
       "  <tbody>\n",
       "    <tr>\n",
       "      <th>0</th>\n",
       "      <td>47.80</td>\n",
       "      <td>2010-01-01 00:00:00</td>\n",
       "    </tr>\n",
       "    <tr>\n",
       "      <th>1</th>\n",
       "      <td>47.40</td>\n",
       "      <td>2010-01-01 01:00:00</td>\n",
       "    </tr>\n",
       "    <tr>\n",
       "      <th>2</th>\n",
       "      <td>46.90</td>\n",
       "      <td>2010-01-01 02:00:00</td>\n",
       "    </tr>\n",
       "    <tr>\n",
       "      <th>3</th>\n",
       "      <td>46.50</td>\n",
       "      <td>2010-01-01 03:00:00</td>\n",
       "    </tr>\n",
       "    <tr>\n",
       "      <th>4</th>\n",
       "      <td>46.00</td>\n",
       "      <td>2010-01-01 04:00:00</td>\n",
       "    </tr>\n",
       "    <tr>\n",
       "      <th>...</th>\n",
       "      <td>...</td>\n",
       "      <td>...</td>\n",
       "    </tr>\n",
       "    <tr>\n",
       "      <th>8754</th>\n",
       "      <td>50.40</td>\n",
       "      <td>2010-12-31 19:00:00</td>\n",
       "    </tr>\n",
       "    <tr>\n",
       "      <th>8755</th>\n",
       "      <td>49.90</td>\n",
       "      <td>2010-12-31 20:00:00</td>\n",
       "    </tr>\n",
       "    <tr>\n",
       "      <th>8756</th>\n",
       "      <td>49.40</td>\n",
       "      <td>2010-12-31 21:00:00</td>\n",
       "    </tr>\n",
       "    <tr>\n",
       "      <th>8757</th>\n",
       "      <td>48.80</td>\n",
       "      <td>2010-12-31 22:00:00</td>\n",
       "    </tr>\n",
       "    <tr>\n",
       "      <th>8758</th>\n",
       "      <td>48.30</td>\n",
       "      <td>2010-12-31 23:00:00</td>\n",
       "    </tr>\n",
       "  </tbody>\n",
       "</table>\n",
       "<p>8759 rows × 2 columns</p>\n",
       "</div>"
      ],
      "text/plain": [
       "      temp                date\n",
       "0    47.80 2010-01-01 00:00:00\n",
       "1    47.40 2010-01-01 01:00:00\n",
       "2    46.90 2010-01-01 02:00:00\n",
       "3    46.50 2010-01-01 03:00:00\n",
       "4    46.00 2010-01-01 04:00:00\n",
       "...    ...                 ...\n",
       "8754 50.40 2010-12-31 19:00:00\n",
       "8755 49.90 2010-12-31 20:00:00\n",
       "8756 49.40 2010-12-31 21:00:00\n",
       "8757 48.80 2010-12-31 22:00:00\n",
       "8758 48.30 2010-12-31 23:00:00\n",
       "\n",
       "[8759 rows x 2 columns]"
      ]
     },
     "execution_count": 93,
     "metadata": {},
     "output_type": "execute_result"
    }
   ],
   "source": [
    "from vega_datasets import data\n",
    "sf_temps = data.sf_temps()\n",
    "sf_temps"
   ]
  },
  {
   "cell_type": "markdown",
   "id": "7386d591",
   "metadata": {},
   "source": [
    "# 1a.)\n",
    " - Resample by the day and take the average temperature. Visualize the average temperature over time."
   ]
  },
  {
   "cell_type": "code",
   "execution_count": 94,
   "id": "bf3c08b0",
   "metadata": {},
   "outputs": [],
   "source": [
    "sf_temps = sf_temps.set_index('date').sort_index()"
   ]
  },
  {
   "cell_type": "code",
   "execution_count": 95,
   "id": "97df38c7",
   "metadata": {},
   "outputs": [
    {
     "data": {
      "text/html": [
       "<div>\n",
       "<style scoped>\n",
       "    .dataframe tbody tr th:only-of-type {\n",
       "        vertical-align: middle;\n",
       "    }\n",
       "\n",
       "    .dataframe tbody tr th {\n",
       "        vertical-align: top;\n",
       "    }\n",
       "\n",
       "    .dataframe thead th {\n",
       "        text-align: right;\n",
       "    }\n",
       "</style>\n",
       "<table border=\"1\" class=\"dataframe\">\n",
       "  <thead>\n",
       "    <tr style=\"text-align: right;\">\n",
       "      <th></th>\n",
       "      <th>temp</th>\n",
       "    </tr>\n",
       "    <tr>\n",
       "      <th>date</th>\n",
       "      <th></th>\n",
       "    </tr>\n",
       "  </thead>\n",
       "  <tbody>\n",
       "    <tr>\n",
       "      <th>2010-01-01</th>\n",
       "      <td>49.17</td>\n",
       "    </tr>\n",
       "    <tr>\n",
       "      <th>2010-01-02</th>\n",
       "      <td>49.30</td>\n",
       "    </tr>\n",
       "    <tr>\n",
       "      <th>2010-01-03</th>\n",
       "      <td>49.39</td>\n",
       "    </tr>\n",
       "    <tr>\n",
       "      <th>2010-01-04</th>\n",
       "      <td>49.45</td>\n",
       "    </tr>\n",
       "    <tr>\n",
       "      <th>2010-01-05</th>\n",
       "      <td>49.49</td>\n",
       "    </tr>\n",
       "    <tr>\n",
       "      <th>...</th>\n",
       "      <td>...</td>\n",
       "    </tr>\n",
       "    <tr>\n",
       "      <th>2010-12-27</th>\n",
       "      <td>48.99</td>\n",
       "    </tr>\n",
       "    <tr>\n",
       "      <th>2010-12-28</th>\n",
       "      <td>49.00</td>\n",
       "    </tr>\n",
       "    <tr>\n",
       "      <th>2010-12-29</th>\n",
       "      <td>49.01</td>\n",
       "    </tr>\n",
       "    <tr>\n",
       "      <th>2010-12-30</th>\n",
       "      <td>49.01</td>\n",
       "    </tr>\n",
       "    <tr>\n",
       "      <th>2010-12-31</th>\n",
       "      <td>49.12</td>\n",
       "    </tr>\n",
       "  </tbody>\n",
       "</table>\n",
       "<p>365 rows × 1 columns</p>\n",
       "</div>"
      ],
      "text/plain": [
       "            temp\n",
       "date            \n",
       "2010-01-01 49.17\n",
       "2010-01-02 49.30\n",
       "2010-01-03 49.39\n",
       "2010-01-04 49.45\n",
       "2010-01-05 49.49\n",
       "...          ...\n",
       "2010-12-27 48.99\n",
       "2010-12-28 49.00\n",
       "2010-12-29 49.01\n",
       "2010-12-30 49.01\n",
       "2010-12-31 49.12\n",
       "\n",
       "[365 rows x 1 columns]"
      ]
     },
     "execution_count": 95,
     "metadata": {},
     "output_type": "execute_result"
    }
   ],
   "source": [
    "sf_temps.resample('D').mean()"
   ]
  },
  {
   "cell_type": "code",
   "execution_count": 96,
   "id": "dac20256",
   "metadata": {},
   "outputs": [
    {
     "data": {
      "image/png": "[encoded data removed]",
      "text/plain": [
       "<Figure size 576x432 with 1 Axes>"
      ]
     },
     "metadata": {},
     "output_type": "display_data"
    }
   ],
   "source": [
    "sf_temps.resample('D').mean().temp.plot();"
   ]
  },
  {
   "cell_type": "markdown",
   "id": "3f50a5ef",
   "metadata": {},
   "source": [
    "# 1b.)\n",
    " - Write the code necessary to visualize the minimum temperature over time."
   ]
  },
  {
   "cell_type": "code",
   "execution_count": 98,
   "id": "2880d50f",
   "metadata": {},
   "outputs": [
    {
     "data": {
      "image/png": "[encoded data removed]",
      "text/plain": [
       "<Figure size 576x432 with 1 Axes>"
      ]
     },
     "metadata": {},
     "output_type": "display_data"
    }
   ],
   "source": [
    "sf_temps.resample('D').min().temp.plot();"
   ]
  },
  {
   "cell_type": "markdown",
   "id": "d03d4947",
   "metadata": {},
   "source": [
    "# 1c. \n",
    " -  Write the code necessary to visualize the maximum temperature over time."
   ]
  },
  {
   "cell_type": "code",
   "execution_count": 102,
   "id": "41a5ab9c",
   "metadata": {},
   "outputs": [
    {
     "data": {
      "image/png": "[encoded data removed]",
      "text/plain": [
       "<Figure size 576x432 with 1 Axes>"
      ]
     },
     "metadata": {},
     "output_type": "display_data"
    }
   ],
   "source": [
    "sf_temps.resample('d').max().temp.plot();"
   ]
  },
  {
   "cell_type": "markdown",
   "id": "377d6daf",
   "metadata": {},
   "source": [
    "# 1d. \n",
    " -  Which month is the coldest, on average?\n",
    " \n",
    " ### January is the coldest month."
   ]
  },
  {
   "cell_type": "code",
   "execution_count": 103,
   "id": "e7ff8075",
   "metadata": {},
   "outputs": [
    {
     "data": {
      "text/plain": [
       "49.984139784946244"
      ]
     },
     "execution_count": 103,
     "metadata": {},
     "output_type": "execute_result"
    }
   ],
   "source": [
    "lowest_avg_temp = sf_temps.resample('M').temp.mean().min()\n",
    "lowest_avg_temp"
   ]
  },
  {
   "cell_type": "code",
   "execution_count": 105,
   "id": "237f155b",
   "metadata": {},
   "outputs": [
    {
     "data": {
      "text/plain": [
       "49.984139784946244"
      ]
     },
     "execution_count": 105,
     "metadata": {},
     "output_type": "execute_result"
    }
   ],
   "source": [
    "sf_temps['avg_monthly_temp'] = sf_temps.resample('M').temp.transform('mean')\n",
    "sf_temps.avg_monthly_temp.min()"
   ]
  },
  {
   "cell_type": "code",
   "execution_count": 107,
   "id": "48659342",
   "metadata": {},
   "outputs": [
    {
     "data": {
      "text/html": [
       "<div>\n",
       "<style scoped>\n",
       "    .dataframe tbody tr th:only-of-type {\n",
       "        vertical-align: middle;\n",
       "    }\n",
       "\n",
       "    .dataframe tbody tr th {\n",
       "        vertical-align: top;\n",
       "    }\n",
       "\n",
       "    .dataframe thead th {\n",
       "        text-align: right;\n",
       "    }\n",
       "</style>\n",
       "<table border=\"1\" class=\"dataframe\">\n",
       "  <thead>\n",
       "    <tr style=\"text-align: right;\">\n",
       "      <th></th>\n",
       "      <th>temp</th>\n",
       "      <th>avg_monthly_temp</th>\n",
       "      <th>month</th>\n",
       "    </tr>\n",
       "    <tr>\n",
       "      <th>date</th>\n",
       "      <th></th>\n",
       "      <th></th>\n",
       "      <th></th>\n",
       "    </tr>\n",
       "  </thead>\n",
       "  <tbody>\n",
       "    <tr>\n",
       "      <th>2010-01-01 00:00:00</th>\n",
       "      <td>47.80</td>\n",
       "      <td>49.98</td>\n",
       "      <td>January</td>\n",
       "    </tr>\n",
       "    <tr>\n",
       "      <th>2010-01-01 01:00:00</th>\n",
       "      <td>47.40</td>\n",
       "      <td>49.98</td>\n",
       "      <td>January</td>\n",
       "    </tr>\n",
       "    <tr>\n",
       "      <th>2010-01-01 02:00:00</th>\n",
       "      <td>46.90</td>\n",
       "      <td>49.98</td>\n",
       "      <td>January</td>\n",
       "    </tr>\n",
       "    <tr>\n",
       "      <th>2010-01-01 03:00:00</th>\n",
       "      <td>46.50</td>\n",
       "      <td>49.98</td>\n",
       "      <td>January</td>\n",
       "    </tr>\n",
       "    <tr>\n",
       "      <th>2010-01-01 04:00:00</th>\n",
       "      <td>46.00</td>\n",
       "      <td>49.98</td>\n",
       "      <td>January</td>\n",
       "    </tr>\n",
       "  </tbody>\n",
       "</table>\n",
       "</div>"
      ],
      "text/plain": [
       "                     temp  avg_monthly_temp    month\n",
       "date                                                \n",
       "2010-01-01 00:00:00 47.80             49.98  January\n",
       "2010-01-01 01:00:00 47.40             49.98  January\n",
       "2010-01-01 02:00:00 46.90             49.98  January\n",
       "2010-01-01 03:00:00 46.50             49.98  January\n",
       "2010-01-01 04:00:00 46.00             49.98  January"
      ]
     },
     "execution_count": 107,
     "metadata": {},
     "output_type": "execute_result"
    }
   ],
   "source": [
    "sf_temps['month'] = sf_temps.index.month_name()\n",
    "sf_temps.head()"
   ]
  },
  {
   "cell_type": "code",
   "execution_count": 108,
   "id": "4159be53",
   "metadata": {},
   "outputs": [
    {
     "data": {
      "text/plain": [
       "'January'"
      ]
     },
     "execution_count": 108,
     "metadata": {},
     "output_type": "execute_result"
    }
   ],
   "source": [
    "coldest_month = sf_temps['month'][sf_temps['avg_monthly_temp'] == lowest_avg_temp]\n",
    "coldest_month[1]"
   ]
  },
  {
   "cell_type": "markdown",
   "id": "3796424b",
   "metadata": {},
   "source": [
    "#  1e. \n",
    " - Which month has the highest average temperature?\n",
    "### September has the highest average temperature."
   ]
  },
  {
   "cell_type": "code",
   "execution_count": 109,
   "id": "29e22cdc",
   "metadata": {},
   "outputs": [
    {
     "data": {
      "text/plain": [
       "62.48708333333335"
      ]
     },
     "execution_count": 109,
     "metadata": {},
     "output_type": "execute_result"
    }
   ],
   "source": [
    "highest_avg_temp = sf_temps.resample('M').temp.mean().max()\n",
    "highest_avg_temp"
   ]
  },
  {
   "cell_type": "code",
   "execution_count": 110,
   "id": "a0d6467f",
   "metadata": {},
   "outputs": [
    {
     "data": {
      "text/plain": [
       "'September'"
      ]
     },
     "execution_count": 110,
     "metadata": {},
     "output_type": "execute_result"
    }
   ],
   "source": [
    "hottest_month = sf_temps['month'][sf_temps['avg_monthly_temp'] == highest_avg_temp]\n",
    "hottest_month[1]"
   ]
  },
  {
   "cell_type": "markdown",
   "id": "81364692",
   "metadata": {},
   "source": [
    " # 1f. \n",
    "  - Resample by the day and calculate the min and max temp for the day (Hint: .agg(['min', 'max'])). Use this resampled dataframe to calculate the change in temperature for the day. Which month has the highest daily temperature variability?"
   ]
  },
  {
   "cell_type": "code",
   "execution_count": 112,
   "id": "2e6915ed",
   "metadata": {},
   "outputs": [
    {
     "data": {
      "text/html": [
       "<div>\n",
       "<style scoped>\n",
       "    .dataframe tbody tr th:only-of-type {\n",
       "        vertical-align: middle;\n",
       "    }\n",
       "\n",
       "    .dataframe tbody tr th {\n",
       "        vertical-align: top;\n",
       "    }\n",
       "\n",
       "    .dataframe thead th {\n",
       "        text-align: right;\n",
       "    }\n",
       "</style>\n",
       "<table border=\"1\" class=\"dataframe\">\n",
       "  <thead>\n",
       "    <tr style=\"text-align: right;\">\n",
       "      <th></th>\n",
       "      <th>temp</th>\n",
       "      <th>avg_monthly_temp</th>\n",
       "      <th>month</th>\n",
       "      <th>max_day_temp</th>\n",
       "      <th>min_day_temp</th>\n",
       "    </tr>\n",
       "    <tr>\n",
       "      <th>date</th>\n",
       "      <th></th>\n",
       "      <th></th>\n",
       "      <th></th>\n",
       "      <th></th>\n",
       "      <th></th>\n",
       "    </tr>\n",
       "  </thead>\n",
       "  <tbody>\n",
       "    <tr>\n",
       "      <th>2010-01-01 00:00:00</th>\n",
       "      <td>47.80</td>\n",
       "      <td>49.98</td>\n",
       "      <td>January</td>\n",
       "      <td>53.30</td>\n",
       "      <td>45.80</td>\n",
       "    </tr>\n",
       "    <tr>\n",
       "      <th>2010-01-01 01:00:00</th>\n",
       "      <td>47.40</td>\n",
       "      <td>49.98</td>\n",
       "      <td>January</td>\n",
       "      <td>53.30</td>\n",
       "      <td>45.80</td>\n",
       "    </tr>\n",
       "    <tr>\n",
       "      <th>2010-01-01 02:00:00</th>\n",
       "      <td>46.90</td>\n",
       "      <td>49.98</td>\n",
       "      <td>January</td>\n",
       "      <td>53.30</td>\n",
       "      <td>45.80</td>\n",
       "    </tr>\n",
       "    <tr>\n",
       "      <th>2010-01-01 03:00:00</th>\n",
       "      <td>46.50</td>\n",
       "      <td>49.98</td>\n",
       "      <td>January</td>\n",
       "      <td>53.30</td>\n",
       "      <td>45.80</td>\n",
       "    </tr>\n",
       "    <tr>\n",
       "      <th>2010-01-01 04:00:00</th>\n",
       "      <td>46.00</td>\n",
       "      <td>49.98</td>\n",
       "      <td>January</td>\n",
       "      <td>53.30</td>\n",
       "      <td>45.80</td>\n",
       "    </tr>\n",
       "    <tr>\n",
       "      <th>...</th>\n",
       "      <td>...</td>\n",
       "      <td>...</td>\n",
       "      <td>...</td>\n",
       "      <td>...</td>\n",
       "      <td>...</td>\n",
       "    </tr>\n",
       "    <tr>\n",
       "      <th>2010-12-31 19:00:00</th>\n",
       "      <td>50.40</td>\n",
       "      <td>50.50</td>\n",
       "      <td>December</td>\n",
       "      <td>53.20</td>\n",
       "      <td>45.80</td>\n",
       "    </tr>\n",
       "    <tr>\n",
       "      <th>2010-12-31 20:00:00</th>\n",
       "      <td>49.90</td>\n",
       "      <td>50.50</td>\n",
       "      <td>December</td>\n",
       "      <td>53.20</td>\n",
       "      <td>45.80</td>\n",
       "    </tr>\n",
       "    <tr>\n",
       "      <th>2010-12-31 21:00:00</th>\n",
       "      <td>49.40</td>\n",
       "      <td>50.50</td>\n",
       "      <td>December</td>\n",
       "      <td>53.20</td>\n",
       "      <td>45.80</td>\n",
       "    </tr>\n",
       "    <tr>\n",
       "      <th>2010-12-31 22:00:00</th>\n",
       "      <td>48.80</td>\n",
       "      <td>50.50</td>\n",
       "      <td>December</td>\n",
       "      <td>53.20</td>\n",
       "      <td>45.80</td>\n",
       "    </tr>\n",
       "    <tr>\n",
       "      <th>2010-12-31 23:00:00</th>\n",
       "      <td>48.30</td>\n",
       "      <td>50.50</td>\n",
       "      <td>December</td>\n",
       "      <td>53.20</td>\n",
       "      <td>45.80</td>\n",
       "    </tr>\n",
       "  </tbody>\n",
       "</table>\n",
       "<p>8759 rows × 5 columns</p>\n",
       "</div>"
      ],
      "text/plain": [
       "                     temp  avg_monthly_temp     month  max_day_temp  \\\n",
       "date                                                                  \n",
       "2010-01-01 00:00:00 47.80             49.98   January         53.30   \n",
       "2010-01-01 01:00:00 47.40             49.98   January         53.30   \n",
       "2010-01-01 02:00:00 46.90             49.98   January         53.30   \n",
       "2010-01-01 03:00:00 46.50             49.98   January         53.30   \n",
       "2010-01-01 04:00:00 46.00             49.98   January         53.30   \n",
       "...                   ...               ...       ...           ...   \n",
       "2010-12-31 19:00:00 50.40             50.50  December         53.20   \n",
       "2010-12-31 20:00:00 49.90             50.50  December         53.20   \n",
       "2010-12-31 21:00:00 49.40             50.50  December         53.20   \n",
       "2010-12-31 22:00:00 48.80             50.50  December         53.20   \n",
       "2010-12-31 23:00:00 48.30             50.50  December         53.20   \n",
       "\n",
       "                     min_day_temp  \n",
       "date                               \n",
       "2010-01-01 00:00:00         45.80  \n",
       "2010-01-01 01:00:00         45.80  \n",
       "2010-01-01 02:00:00         45.80  \n",
       "2010-01-01 03:00:00         45.80  \n",
       "2010-01-01 04:00:00         45.80  \n",
       "...                           ...  \n",
       "2010-12-31 19:00:00         45.80  \n",
       "2010-12-31 20:00:00         45.80  \n",
       "2010-12-31 21:00:00         45.80  \n",
       "2010-12-31 22:00:00         45.80  \n",
       "2010-12-31 23:00:00         45.80  \n",
       "\n",
       "[8759 rows x 5 columns]"
      ]
     },
     "execution_count": 112,
     "metadata": {},
     "output_type": "execute_result"
    }
   ],
   "source": [
    "sf_temps['max_day_temp'] = sf_temps.resample('D').temp.transform('max')\n",
    "sf_temps['min_day_temp'] = sf_temps.resample('D').temp.transform('min')\n",
    "sf_temps"
   ]
  },
  {
   "cell_type": "code",
   "execution_count": 113,
   "id": "8d970c0e",
   "metadata": {},
   "outputs": [
    {
     "data": {
      "text/html": [
       "<div>\n",
       "<style scoped>\n",
       "    .dataframe tbody tr th:only-of-type {\n",
       "        vertical-align: middle;\n",
       "    }\n",
       "\n",
       "    .dataframe tbody tr th {\n",
       "        vertical-align: top;\n",
       "    }\n",
       "\n",
       "    .dataframe thead th {\n",
       "        text-align: right;\n",
       "    }\n",
       "</style>\n",
       "<table border=\"1\" class=\"dataframe\">\n",
       "  <thead>\n",
       "    <tr style=\"text-align: right;\">\n",
       "      <th></th>\n",
       "      <th>temp</th>\n",
       "      <th>avg_monthly_temp</th>\n",
       "      <th>month</th>\n",
       "      <th>max_day_temp</th>\n",
       "      <th>min_day_temp</th>\n",
       "      <th>temp_delta_per_day</th>\n",
       "    </tr>\n",
       "    <tr>\n",
       "      <th>date</th>\n",
       "      <th></th>\n",
       "      <th></th>\n",
       "      <th></th>\n",
       "      <th></th>\n",
       "      <th></th>\n",
       "      <th></th>\n",
       "    </tr>\n",
       "  </thead>\n",
       "  <tbody>\n",
       "    <tr>\n",
       "      <th>2010-01-01 00:00:00</th>\n",
       "      <td>47.80</td>\n",
       "      <td>49.98</td>\n",
       "      <td>January</td>\n",
       "      <td>53.30</td>\n",
       "      <td>45.80</td>\n",
       "      <td>7.50</td>\n",
       "    </tr>\n",
       "    <tr>\n",
       "      <th>2010-01-01 01:00:00</th>\n",
       "      <td>47.40</td>\n",
       "      <td>49.98</td>\n",
       "      <td>January</td>\n",
       "      <td>53.30</td>\n",
       "      <td>45.80</td>\n",
       "      <td>7.50</td>\n",
       "    </tr>\n",
       "    <tr>\n",
       "      <th>2010-01-01 02:00:00</th>\n",
       "      <td>46.90</td>\n",
       "      <td>49.98</td>\n",
       "      <td>January</td>\n",
       "      <td>53.30</td>\n",
       "      <td>45.80</td>\n",
       "      <td>7.50</td>\n",
       "    </tr>\n",
       "    <tr>\n",
       "      <th>2010-01-01 03:00:00</th>\n",
       "      <td>46.50</td>\n",
       "      <td>49.98</td>\n",
       "      <td>January</td>\n",
       "      <td>53.30</td>\n",
       "      <td>45.80</td>\n",
       "      <td>7.50</td>\n",
       "    </tr>\n",
       "    <tr>\n",
       "      <th>2010-01-01 04:00:00</th>\n",
       "      <td>46.00</td>\n",
       "      <td>49.98</td>\n",
       "      <td>January</td>\n",
       "      <td>53.30</td>\n",
       "      <td>45.80</td>\n",
       "      <td>7.50</td>\n",
       "    </tr>\n",
       "  </tbody>\n",
       "</table>\n",
       "</div>"
      ],
      "text/plain": [
       "                     temp  avg_monthly_temp    month  max_day_temp  \\\n",
       "date                                                                 \n",
       "2010-01-01 00:00:00 47.80             49.98  January         53.30   \n",
       "2010-01-01 01:00:00 47.40             49.98  January         53.30   \n",
       "2010-01-01 02:00:00 46.90             49.98  January         53.30   \n",
       "2010-01-01 03:00:00 46.50             49.98  January         53.30   \n",
       "2010-01-01 04:00:00 46.00             49.98  January         53.30   \n",
       "\n",
       "                     min_day_temp  temp_delta_per_day  \n",
       "date                                                   \n",
       "2010-01-01 00:00:00         45.80                7.50  \n",
       "2010-01-01 01:00:00         45.80                7.50  \n",
       "2010-01-01 02:00:00         45.80                7.50  \n",
       "2010-01-01 03:00:00         45.80                7.50  \n",
       "2010-01-01 04:00:00         45.80                7.50  "
      ]
     },
     "execution_count": 113,
     "metadata": {},
     "output_type": "execute_result"
    }
   ],
   "source": [
    "sf_temps['temp_delta_per_day'] = sf_temps['max_day_temp'] - sf_temps['min_day_temp']\n",
    "sf_temps.head()"
   ]
  },
  {
   "cell_type": "code",
   "execution_count": 114,
   "id": "877f8b60",
   "metadata": {},
   "outputs": [
    {
     "data": {
      "text/plain": [
       "'August'"
      ]
     },
     "execution_count": 114,
     "metadata": {},
     "output_type": "execute_result"
    }
   ],
   "source": [
    "sf_temps['month'][sf_temps.temp_delta_per_day == sf_temps.temp_delta_per_day.max()][1]"
   ]
  },
  {
   "cell_type": "markdown",
   "id": "4953fbb2",
   "metadata": {},
   "source": [
    "###  Bonus # 1: Visualize the daily min, average, and max temperature over time on a single line plot, i.e. the min, average, and maximum temperature should be 3 seperate lines."
   ]
  },
  {
   "cell_type": "code",
   "execution_count": 115,
   "id": "7f1f4850",
   "metadata": {},
   "outputs": [
    {
     "data": {
      "image/png": "[encoded data removed]",
      "text/plain": [
       "<Figure size 576x432 with 1 Axes>"
      ]
     },
     "metadata": {},
     "output_type": "display_data"
    }
   ],
   "source": [
    "df_plot = pd.DataFrame(sf_temps, columns=['avg_monthly_temp','max_day_temp', 'min_day_temp'])\n",
    "\n",
    "df_plot.plot(legend=True);"
   ]
  },
  {
   "cell_type": "code",
   "execution_count": 116,
   "id": "daa6ead5",
   "metadata": {},
   "outputs": [
    {
     "data": {
      "image/png": "[encoded data removed]",
      "text/plain": [
       "<Figure size 576x432 with 1 Axes>"
      ]
     },
     "metadata": {},
     "output_type": "display_data"
    }
   ],
   "source": [
    "sf_temps.temp.resample('D').agg(['min', 'mean', 'max']).plot();"
   ]
  },
  {
   "cell_type": "markdown",
   "id": "cde1264d",
   "metadata": {},
   "source": [
    "_____\n",
    "\n",
    "\n",
    "# 2a. \n",
    "-  Which year and month combination has the highest amount of precipitation?"
   ]
  },
  {
   "cell_type": "code",
   "execution_count": 134,
   "id": "97e2c54c",
   "metadata": {},
   "outputs": [
    {
     "data": {
      "text/html": [
       "<div>\n",
       "<style scoped>\n",
       "    .dataframe tbody tr th:only-of-type {\n",
       "        vertical-align: middle;\n",
       "    }\n",
       "\n",
       "    .dataframe tbody tr th {\n",
       "        vertical-align: top;\n",
       "    }\n",
       "\n",
       "    .dataframe thead th {\n",
       "        text-align: right;\n",
       "    }\n",
       "</style>\n",
       "<table border=\"1\" class=\"dataframe\">\n",
       "  <thead>\n",
       "    <tr style=\"text-align: right;\">\n",
       "      <th></th>\n",
       "      <th>date</th>\n",
       "      <th>precipitation</th>\n",
       "      <th>temp_max</th>\n",
       "      <th>temp_min</th>\n",
       "      <th>wind</th>\n",
       "      <th>weather</th>\n",
       "      <th>yr</th>\n",
       "      <th>month</th>\n",
       "      <th>yr_month</th>\n",
       "    </tr>\n",
       "  </thead>\n",
       "  <tbody>\n",
       "    <tr>\n",
       "      <th>0</th>\n",
       "      <td>2012-01-01</td>\n",
       "      <td>0.00</td>\n",
       "      <td>12.80</td>\n",
       "      <td>5.00</td>\n",
       "      <td>4.70</td>\n",
       "      <td>drizzle</td>\n",
       "      <td>2012</td>\n",
       "      <td>1</td>\n",
       "      <td>2012-01</td>\n",
       "    </tr>\n",
       "    <tr>\n",
       "      <th>1</th>\n",
       "      <td>2012-01-02</td>\n",
       "      <td>10.90</td>\n",
       "      <td>10.60</td>\n",
       "      <td>2.80</td>\n",
       "      <td>4.50</td>\n",
       "      <td>rain</td>\n",
       "      <td>2012</td>\n",
       "      <td>1</td>\n",
       "      <td>2012-01</td>\n",
       "    </tr>\n",
       "    <tr>\n",
       "      <th>2</th>\n",
       "      <td>2012-01-03</td>\n",
       "      <td>0.80</td>\n",
       "      <td>11.70</td>\n",
       "      <td>7.20</td>\n",
       "      <td>2.30</td>\n",
       "      <td>rain</td>\n",
       "      <td>2012</td>\n",
       "      <td>1</td>\n",
       "      <td>2012-01</td>\n",
       "    </tr>\n",
       "    <tr>\n",
       "      <th>3</th>\n",
       "      <td>2012-01-04</td>\n",
       "      <td>20.30</td>\n",
       "      <td>12.20</td>\n",
       "      <td>5.60</td>\n",
       "      <td>4.70</td>\n",
       "      <td>rain</td>\n",
       "      <td>2012</td>\n",
       "      <td>1</td>\n",
       "      <td>2012-01</td>\n",
       "    </tr>\n",
       "    <tr>\n",
       "      <th>4</th>\n",
       "      <td>2012-01-05</td>\n",
       "      <td>1.30</td>\n",
       "      <td>8.90</td>\n",
       "      <td>2.80</td>\n",
       "      <td>6.10</td>\n",
       "      <td>rain</td>\n",
       "      <td>2012</td>\n",
       "      <td>1</td>\n",
       "      <td>2012-01</td>\n",
       "    </tr>\n",
       "    <tr>\n",
       "      <th>...</th>\n",
       "      <td>...</td>\n",
       "      <td>...</td>\n",
       "      <td>...</td>\n",
       "      <td>...</td>\n",
       "      <td>...</td>\n",
       "      <td>...</td>\n",
       "      <td>...</td>\n",
       "      <td>...</td>\n",
       "      <td>...</td>\n",
       "    </tr>\n",
       "    <tr>\n",
       "      <th>1456</th>\n",
       "      <td>2015-12-27</td>\n",
       "      <td>8.60</td>\n",
       "      <td>4.40</td>\n",
       "      <td>1.70</td>\n",
       "      <td>2.90</td>\n",
       "      <td>fog</td>\n",
       "      <td>2015</td>\n",
       "      <td>12</td>\n",
       "      <td>2015-12</td>\n",
       "    </tr>\n",
       "    <tr>\n",
       "      <th>1457</th>\n",
       "      <td>2015-12-28</td>\n",
       "      <td>1.50</td>\n",
       "      <td>5.00</td>\n",
       "      <td>1.70</td>\n",
       "      <td>1.30</td>\n",
       "      <td>fog</td>\n",
       "      <td>2015</td>\n",
       "      <td>12</td>\n",
       "      <td>2015-12</td>\n",
       "    </tr>\n",
       "    <tr>\n",
       "      <th>1458</th>\n",
       "      <td>2015-12-29</td>\n",
       "      <td>0.00</td>\n",
       "      <td>7.20</td>\n",
       "      <td>0.60</td>\n",
       "      <td>2.60</td>\n",
       "      <td>fog</td>\n",
       "      <td>2015</td>\n",
       "      <td>12</td>\n",
       "      <td>2015-12</td>\n",
       "    </tr>\n",
       "    <tr>\n",
       "      <th>1459</th>\n",
       "      <td>2015-12-30</td>\n",
       "      <td>0.00</td>\n",
       "      <td>5.60</td>\n",
       "      <td>-1.00</td>\n",
       "      <td>3.40</td>\n",
       "      <td>sun</td>\n",
       "      <td>2015</td>\n",
       "      <td>12</td>\n",
       "      <td>2015-12</td>\n",
       "    </tr>\n",
       "    <tr>\n",
       "      <th>1460</th>\n",
       "      <td>2015-12-31</td>\n",
       "      <td>0.00</td>\n",
       "      <td>5.60</td>\n",
       "      <td>-2.10</td>\n",
       "      <td>3.50</td>\n",
       "      <td>sun</td>\n",
       "      <td>2015</td>\n",
       "      <td>12</td>\n",
       "      <td>2015-12</td>\n",
       "    </tr>\n",
       "  </tbody>\n",
       "</table>\n",
       "<p>1461 rows × 9 columns</p>\n",
       "</div>"
      ],
      "text/plain": [
       "           date  precipitation  temp_max  temp_min  wind  weather    yr  \\\n",
       "0    2012-01-01           0.00     12.80      5.00  4.70  drizzle  2012   \n",
       "1    2012-01-02          10.90     10.60      2.80  4.50     rain  2012   \n",
       "2    2012-01-03           0.80     11.70      7.20  2.30     rain  2012   \n",
       "3    2012-01-04          20.30     12.20      5.60  4.70     rain  2012   \n",
       "4    2012-01-05           1.30      8.90      2.80  6.10     rain  2012   \n",
       "...         ...            ...       ...       ...   ...      ...   ...   \n",
       "1456 2015-12-27           8.60      4.40      1.70  2.90      fog  2015   \n",
       "1457 2015-12-28           1.50      5.00      1.70  1.30      fog  2015   \n",
       "1458 2015-12-29           0.00      7.20      0.60  2.60      fog  2015   \n",
       "1459 2015-12-30           0.00      5.60     -1.00  3.40      sun  2015   \n",
       "1460 2015-12-31           0.00      5.60     -2.10  3.50      sun  2015   \n",
       "\n",
       "      month yr_month  \n",
       "0         1  2012-01  \n",
       "1         1  2012-01  \n",
       "2         1  2012-01  \n",
       "3         1  2012-01  \n",
       "4         1  2012-01  \n",
       "...     ...      ...  \n",
       "1456     12  2015-12  \n",
       "1457     12  2015-12  \n",
       "1458     12  2015-12  \n",
       "1459     12  2015-12  \n",
       "1460     12  2015-12  \n",
       "\n",
       "[1461 rows x 9 columns]"
      ]
     },
     "execution_count": 134,
     "metadata": {},
     "output_type": "execute_result"
    }
   ],
   "source": [
    "from vega_datasets import data\n",
    "se_weather = data.seattle_weather()\n",
    "se_weather['yr'] = se_weather.date.dt.year\n",
    "se_weather['month'] = se_weather.date.dt.month\n",
    "se_weather['yr_month'] = se_weather['date'].dt.to_period('M')\n",
    "se_weather"
   ]
  },
  {
   "cell_type": "code",
   "execution_count": 135,
   "id": "e5e5cd45",
   "metadata": {},
   "outputs": [
    {
     "data": {
      "text/plain": [
       "55.9"
      ]
     },
     "execution_count": 135,
     "metadata": {},
     "output_type": "execute_result"
    }
   ],
   "source": [
    "se_weather.precipitation.max()"
   ]
  },
  {
   "cell_type": "code",
   "execution_count": 136,
   "id": "08574e74",
   "metadata": {},
   "outputs": [
    {
     "data": {
      "text/plain": [
       "1169    2015-03\n",
       "Name: yr_month, dtype: period[M]"
      ]
     },
     "execution_count": 136,
     "metadata": {},
     "output_type": "execute_result"
    }
   ],
   "source": [
    "max_rain = se_weather[se_weather.precipitation == se_weather.precipitation.max()]\n",
    "max_rain.yr_month"
   ]
  },
  {
   "cell_type": "markdown",
   "id": "f50f847c",
   "metadata": {},
   "source": [
    "# 2b. \n",
    "-  Visualize the amount of monthly precipitation over time."
   ]
  },
  {
   "cell_type": "code",
   "execution_count": 137,
   "id": "8c2d992e",
   "metadata": {},
   "outputs": [
    {
     "data": {
      "image/png": "[encoded data removed]",
      "text/plain": [
       "<Figure size 576x432 with 1 Axes>"
      ]
     },
     "metadata": {},
     "output_type": "display_data"
    }
   ],
   "source": [
    "se_weather = se_weather.set_index('date').sort_index()\n",
    "\n",
    "se_weather.precipitation.resample('M').sum().plot();"
   ]
  },
  {
   "cell_type": "markdown",
   "id": "8ae22497",
   "metadata": {},
   "source": [
    "# 2c. \n",
    "-  Visualize the amount of wind over time. Choose a time interval you think is appropriate."
   ]
  },
  {
   "cell_type": "code",
   "execution_count": 138,
   "id": "a096c637",
   "metadata": {},
   "outputs": [
    {
     "data": {
      "image/png": "[encoded data removed]",
      "text/plain": [
       "<Figure size 576x432 with 1 Axes>"
      ]
     },
     "metadata": {},
     "output_type": "display_data"
    }
   ],
   "source": [
    "se_weather.wind.resample('M').mean().plot();"
   ]
  },
  {
   "cell_type": "markdown",
   "id": "862d6440",
   "metadata": {},
   "source": [
    "# 2d.\n",
    "-  Which year-month combination is the windiest?"
   ]
  },
  {
   "cell_type": "code",
   "execution_count": 139,
   "id": "412f1cdd",
   "metadata": {},
   "outputs": [
    {
     "data": {
      "text/plain": [
       "date\n",
       "2012-12-17    2012-12\n",
       "Name: yr_month, dtype: period[M]"
      ]
     },
     "execution_count": 139,
     "metadata": {},
     "output_type": "execute_result"
    }
   ],
   "source": [
    "max_wind = se_weather[se_weather.wind == se_weather.wind.max()]\n",
    "max_wind.yr_month"
   ]
  },
  {
   "cell_type": "markdown",
   "id": "4e5342e5",
   "metadata": {},
   "source": [
    "# 2e.\n",
    "-  What's the sunniest year? (Hint: which day has the highest number of days where weather == sun?)"
   ]
  },
  {
   "cell_type": "code",
   "execution_count": 140,
   "id": "797f37ed",
   "metadata": {},
   "outputs": [
    {
     "data": {
      "text/html": [
       "<div>\n",
       "<style scoped>\n",
       "    .dataframe tbody tr th:only-of-type {\n",
       "        vertical-align: middle;\n",
       "    }\n",
       "\n",
       "    .dataframe tbody tr th {\n",
       "        vertical-align: top;\n",
       "    }\n",
       "\n",
       "    .dataframe thead th {\n",
       "        text-align: right;\n",
       "    }\n",
       "</style>\n",
       "<table border=\"1\" class=\"dataframe\">\n",
       "  <thead>\n",
       "    <tr style=\"text-align: right;\">\n",
       "      <th>date</th>\n",
       "      <th>2012-12-31</th>\n",
       "      <th>2013-12-31</th>\n",
       "      <th>2014-12-31</th>\n",
       "      <th>2015-12-31</th>\n",
       "    </tr>\n",
       "    <tr>\n",
       "      <th>weather</th>\n",
       "      <th></th>\n",
       "      <th></th>\n",
       "      <th></th>\n",
       "      <th></th>\n",
       "    </tr>\n",
       "  </thead>\n",
       "  <tbody>\n",
       "    <tr>\n",
       "      <th>drizzle</th>\n",
       "      <td>31.00</td>\n",
       "      <td>16.00</td>\n",
       "      <td>0.00</td>\n",
       "      <td>7.00</td>\n",
       "    </tr>\n",
       "    <tr>\n",
       "      <th>fog</th>\n",
       "      <td>5.00</td>\n",
       "      <td>82.00</td>\n",
       "      <td>151.00</td>\n",
       "      <td>173.00</td>\n",
       "    </tr>\n",
       "    <tr>\n",
       "      <th>rain</th>\n",
       "      <td>191.00</td>\n",
       "      <td>60.00</td>\n",
       "      <td>3.00</td>\n",
       "      <td>5.00</td>\n",
       "    </tr>\n",
       "    <tr>\n",
       "      <th>snow</th>\n",
       "      <td>21.00</td>\n",
       "      <td>2.00</td>\n",
       "      <td>NaN</td>\n",
       "      <td>NaN</td>\n",
       "    </tr>\n",
       "    <tr>\n",
       "      <th>sun</th>\n",
       "      <td>118.00</td>\n",
       "      <td>205.00</td>\n",
       "      <td>211.00</td>\n",
       "      <td>180.00</td>\n",
       "    </tr>\n",
       "  </tbody>\n",
       "</table>\n",
       "</div>"
      ],
      "text/plain": [
       "date     2012-12-31  2013-12-31  2014-12-31  2015-12-31\n",
       "weather                                                \n",
       "drizzle       31.00       16.00        0.00        7.00\n",
       "fog            5.00       82.00      151.00      173.00\n",
       "rain         191.00       60.00        3.00        5.00\n",
       "snow          21.00        2.00         NaN         NaN\n",
       "sun          118.00      205.00      211.00      180.00"
      ]
     },
     "execution_count": 140,
     "metadata": {},
     "output_type": "execute_result"
    }
   ],
   "source": [
    "se_weather.groupby('weather').resample('Y').size().unstack()"
   ]
  },
  {
   "cell_type": "markdown",
   "id": "6721bb93",
   "metadata": {},
   "source": [
    "2014 has the highest amount of sun."
   ]
  },
  {
   "cell_type": "markdown",
   "id": "c48c2f02",
   "metadata": {},
   "source": [
    "# 2f.\n",
    " -  In which month does it rain the most?"
   ]
  },
  {
   "cell_type": "code",
   "execution_count": 142,
   "id": "85e77869",
   "metadata": {},
   "outputs": [
    {
     "data": {
      "text/html": [
       "<div>\n",
       "<style scoped>\n",
       "    .dataframe tbody tr th:only-of-type {\n",
       "        vertical-align: middle;\n",
       "    }\n",
       "\n",
       "    .dataframe tbody tr th {\n",
       "        vertical-align: top;\n",
       "    }\n",
       "\n",
       "    .dataframe thead th {\n",
       "        text-align: right;\n",
       "    }\n",
       "</style>\n",
       "<table border=\"1\" class=\"dataframe\">\n",
       "  <thead>\n",
       "    <tr style=\"text-align: right;\">\n",
       "      <th>date</th>\n",
       "      <th>2012-12-31</th>\n",
       "      <th>2013-12-31</th>\n",
       "      <th>2014-12-31</th>\n",
       "      <th>2015-12-31</th>\n",
       "    </tr>\n",
       "    <tr>\n",
       "      <th>weather</th>\n",
       "      <th></th>\n",
       "      <th></th>\n",
       "      <th></th>\n",
       "      <th></th>\n",
       "    </tr>\n",
       "  </thead>\n",
       "  <tbody>\n",
       "    <tr>\n",
       "      <th>drizzle</th>\n",
       "      <td>31.00</td>\n",
       "      <td>16.00</td>\n",
       "      <td>0.00</td>\n",
       "      <td>7.00</td>\n",
       "    </tr>\n",
       "    <tr>\n",
       "      <th>fog</th>\n",
       "      <td>5.00</td>\n",
       "      <td>82.00</td>\n",
       "      <td>151.00</td>\n",
       "      <td>173.00</td>\n",
       "    </tr>\n",
       "    <tr>\n",
       "      <th>rain</th>\n",
       "      <td>191.00</td>\n",
       "      <td>60.00</td>\n",
       "      <td>3.00</td>\n",
       "      <td>5.00</td>\n",
       "    </tr>\n",
       "    <tr>\n",
       "      <th>snow</th>\n",
       "      <td>21.00</td>\n",
       "      <td>2.00</td>\n",
       "      <td>NaN</td>\n",
       "      <td>NaN</td>\n",
       "    </tr>\n",
       "    <tr>\n",
       "      <th>sun</th>\n",
       "      <td>118.00</td>\n",
       "      <td>205.00</td>\n",
       "      <td>211.00</td>\n",
       "      <td>180.00</td>\n",
       "    </tr>\n",
       "  </tbody>\n",
       "</table>\n",
       "</div>"
      ],
      "text/plain": [
       "date     2012-12-31  2013-12-31  2014-12-31  2015-12-31\n",
       "weather                                                \n",
       "drizzle       31.00       16.00        0.00        7.00\n",
       "fog            5.00       82.00      151.00      173.00\n",
       "rain         191.00       60.00        3.00        5.00\n",
       "snow          21.00        2.00         NaN         NaN\n",
       "sun          118.00      205.00      211.00      180.00"
      ]
     },
     "execution_count": 142,
     "metadata": {},
     "output_type": "execute_result"
    }
   ],
   "source": [
    "se_weather.groupby('weather').resample('Y').size().unstack()"
   ]
  },
  {
   "cell_type": "markdown",
   "id": "2600583b",
   "metadata": {},
   "source": [
    "December 2012 had the most rain."
   ]
  },
  {
   "cell_type": "markdown",
   "id": "ee4f75eb",
   "metadata": {},
   "source": [
    " # 2g. \n",
    "   -  Which month has the most number of days with a non-zero amount of precipitation?"
   ]
  },
  {
   "cell_type": "code",
   "execution_count": 144,
   "id": "24bdef9a",
   "metadata": {},
   "outputs": [
    {
     "data": {
      "text/html": [
       "<div>\n",
       "<style scoped>\n",
       "    .dataframe tbody tr th:only-of-type {\n",
       "        vertical-align: middle;\n",
       "    }\n",
       "\n",
       "    .dataframe tbody tr th {\n",
       "        vertical-align: top;\n",
       "    }\n",
       "\n",
       "    .dataframe thead th {\n",
       "        text-align: right;\n",
       "    }\n",
       "</style>\n",
       "<table border=\"1\" class=\"dataframe\">\n",
       "  <thead>\n",
       "    <tr style=\"text-align: right;\">\n",
       "      <th></th>\n",
       "      <th>precipitation</th>\n",
       "      <th>temp_max</th>\n",
       "      <th>temp_min</th>\n",
       "      <th>wind</th>\n",
       "      <th>weather</th>\n",
       "      <th>yr</th>\n",
       "      <th>month</th>\n",
       "      <th>yr_month</th>\n",
       "      <th>no_rain</th>\n",
       "    </tr>\n",
       "    <tr>\n",
       "      <th>date</th>\n",
       "      <th></th>\n",
       "      <th></th>\n",
       "      <th></th>\n",
       "      <th></th>\n",
       "      <th></th>\n",
       "      <th></th>\n",
       "      <th></th>\n",
       "      <th></th>\n",
       "      <th></th>\n",
       "    </tr>\n",
       "  </thead>\n",
       "  <tbody>\n",
       "    <tr>\n",
       "      <th>2012-01-01</th>\n",
       "      <td>0.00</td>\n",
       "      <td>12.80</td>\n",
       "      <td>5.00</td>\n",
       "      <td>4.70</td>\n",
       "      <td>drizzle</td>\n",
       "      <td>2012</td>\n",
       "      <td>1</td>\n",
       "      <td>2012-01</td>\n",
       "      <td>False</td>\n",
       "    </tr>\n",
       "    <tr>\n",
       "      <th>2012-01-02</th>\n",
       "      <td>10.90</td>\n",
       "      <td>10.60</td>\n",
       "      <td>2.80</td>\n",
       "      <td>4.50</td>\n",
       "      <td>rain</td>\n",
       "      <td>2012</td>\n",
       "      <td>1</td>\n",
       "      <td>2012-01</td>\n",
       "      <td>True</td>\n",
       "    </tr>\n",
       "    <tr>\n",
       "      <th>2012-01-03</th>\n",
       "      <td>0.80</td>\n",
       "      <td>11.70</td>\n",
       "      <td>7.20</td>\n",
       "      <td>2.30</td>\n",
       "      <td>rain</td>\n",
       "      <td>2012</td>\n",
       "      <td>1</td>\n",
       "      <td>2012-01</td>\n",
       "      <td>True</td>\n",
       "    </tr>\n",
       "    <tr>\n",
       "      <th>2012-01-04</th>\n",
       "      <td>20.30</td>\n",
       "      <td>12.20</td>\n",
       "      <td>5.60</td>\n",
       "      <td>4.70</td>\n",
       "      <td>rain</td>\n",
       "      <td>2012</td>\n",
       "      <td>1</td>\n",
       "      <td>2012-01</td>\n",
       "      <td>True</td>\n",
       "    </tr>\n",
       "    <tr>\n",
       "      <th>2012-01-05</th>\n",
       "      <td>1.30</td>\n",
       "      <td>8.90</td>\n",
       "      <td>2.80</td>\n",
       "      <td>6.10</td>\n",
       "      <td>rain</td>\n",
       "      <td>2012</td>\n",
       "      <td>1</td>\n",
       "      <td>2012-01</td>\n",
       "      <td>True</td>\n",
       "    </tr>\n",
       "  </tbody>\n",
       "</table>\n",
       "</div>"
      ],
      "text/plain": [
       "            precipitation  temp_max  temp_min  wind  weather    yr  month  \\\n",
       "date                                                                        \n",
       "2012-01-01           0.00     12.80      5.00  4.70  drizzle  2012      1   \n",
       "2012-01-02          10.90     10.60      2.80  4.50     rain  2012      1   \n",
       "2012-01-03           0.80     11.70      7.20  2.30     rain  2012      1   \n",
       "2012-01-04          20.30     12.20      5.60  4.70     rain  2012      1   \n",
       "2012-01-05           1.30      8.90      2.80  6.10     rain  2012      1   \n",
       "\n",
       "           yr_month  no_rain  \n",
       "date                          \n",
       "2012-01-01  2012-01    False  \n",
       "2012-01-02  2012-01     True  \n",
       "2012-01-03  2012-01     True  \n",
       "2012-01-04  2012-01     True  \n",
       "2012-01-05  2012-01     True  "
      ]
     },
     "execution_count": 144,
     "metadata": {},
     "output_type": "execute_result"
    }
   ],
   "source": [
    "se_weather['no_rain'] =  se_weather.precipitation > 0\n",
    "se_weather.head()"
   ]
  },
  {
   "cell_type": "code",
   "execution_count": 145,
   "id": "aeadd9d5",
   "metadata": {},
   "outputs": [
    {
     "data": {
      "text/plain": [
       "month\n",
       "7     11\n",
       "8     22\n",
       "5     34\n",
       "9     35\n",
       "6     37\n",
       "4     59\n",
       "10    61\n",
       "1     66\n",
       "11    71\n",
       "2     73\n",
       "3     73\n",
       "12    81\n",
       "Name: no_rain, dtype: int64"
      ]
     },
     "execution_count": 145,
     "metadata": {},
     "output_type": "execute_result"
    }
   ],
   "source": [
    "se_weather.groupby('month').no_rain.sum().sort_values()"
   ]
  },
  {
   "cell_type": "markdown",
   "id": "72c540c1",
   "metadata": {},
   "source": [
    "December had the most number of days with non-zero amounts of precipitation."
   ]
  },
  {
   "cell_type": "markdown",
   "id": "735ffdf1",
   "metadata": {},
   "source": [
    "___\n",
    "# 3a.\n",
    " - Convert any negative delays to 0."
   ]
  },
  {
   "cell_type": "code",
   "execution_count": 147,
   "id": "c99bd1e6",
   "metadata": {},
   "outputs": [
    {
     "data": {
      "text/html": [
       "<div>\n",
       "<style scoped>\n",
       "    .dataframe tbody tr th:only-of-type {\n",
       "        vertical-align: middle;\n",
       "    }\n",
       "\n",
       "    .dataframe tbody tr th {\n",
       "        vertical-align: top;\n",
       "    }\n",
       "\n",
       "    .dataframe thead th {\n",
       "        text-align: right;\n",
       "    }\n",
       "</style>\n",
       "<table border=\"1\" class=\"dataframe\">\n",
       "  <thead>\n",
       "    <tr style=\"text-align: right;\">\n",
       "      <th></th>\n",
       "      <th>date</th>\n",
       "      <th>delay</th>\n",
       "      <th>distance</th>\n",
       "      <th>origin</th>\n",
       "      <th>destination</th>\n",
       "    </tr>\n",
       "  </thead>\n",
       "  <tbody>\n",
       "    <tr>\n",
       "      <th>0</th>\n",
       "      <td>2001-01-13 14:56:00</td>\n",
       "      <td>32</td>\n",
       "      <td>417</td>\n",
       "      <td>SAN</td>\n",
       "      <td>SJC</td>\n",
       "    </tr>\n",
       "    <tr>\n",
       "      <th>1</th>\n",
       "      <td>2001-01-31 16:40:00</td>\n",
       "      <td>0</td>\n",
       "      <td>1093</td>\n",
       "      <td>FLL</td>\n",
       "      <td>ISP</td>\n",
       "    </tr>\n",
       "    <tr>\n",
       "      <th>2</th>\n",
       "      <td>2001-02-11 18:39:00</td>\n",
       "      <td>3</td>\n",
       "      <td>293</td>\n",
       "      <td>LBB</td>\n",
       "      <td>DAL</td>\n",
       "    </tr>\n",
       "    <tr>\n",
       "      <th>3</th>\n",
       "      <td>2001-01-10 21:00:00</td>\n",
       "      <td>0</td>\n",
       "      <td>550</td>\n",
       "      <td>MSY</td>\n",
       "      <td>MCO</td>\n",
       "    </tr>\n",
       "    <tr>\n",
       "      <th>4</th>\n",
       "      <td>2001-03-30 21:45:00</td>\n",
       "      <td>0</td>\n",
       "      <td>229</td>\n",
       "      <td>STL</td>\n",
       "      <td>IND</td>\n",
       "    </tr>\n",
       "    <tr>\n",
       "      <th>...</th>\n",
       "      <td>...</td>\n",
       "      <td>...</td>\n",
       "      <td>...</td>\n",
       "      <td>...</td>\n",
       "      <td>...</td>\n",
       "    </tr>\n",
       "    <tr>\n",
       "      <th>19995</th>\n",
       "      <td>2001-03-22 15:10:00</td>\n",
       "      <td>4</td>\n",
       "      <td>446</td>\n",
       "      <td>SAN</td>\n",
       "      <td>OAK</td>\n",
       "    </tr>\n",
       "    <tr>\n",
       "      <th>19996</th>\n",
       "      <td>2001-01-19 13:05:00</td>\n",
       "      <td>0</td>\n",
       "      <td>1489</td>\n",
       "      <td>SEA</td>\n",
       "      <td>MCI</td>\n",
       "    </tr>\n",
       "    <tr>\n",
       "      <th>19997</th>\n",
       "      <td>2001-02-07 11:37:00</td>\n",
       "      <td>0</td>\n",
       "      <td>1848</td>\n",
       "      <td>MCO</td>\n",
       "      <td>PHX</td>\n",
       "    </tr>\n",
       "    <tr>\n",
       "      <th>19998</th>\n",
       "      <td>2001-02-24 16:50:00</td>\n",
       "      <td>42</td>\n",
       "      <td>443</td>\n",
       "      <td>RDU</td>\n",
       "      <td>BNA</td>\n",
       "    </tr>\n",
       "    <tr>\n",
       "      <th>19999</th>\n",
       "      <td>2001-03-14 11:33:00</td>\n",
       "      <td>0</td>\n",
       "      <td>328</td>\n",
       "      <td>ABQ</td>\n",
       "      <td>PHX</td>\n",
       "    </tr>\n",
       "  </tbody>\n",
       "</table>\n",
       "<p>20000 rows × 5 columns</p>\n",
       "</div>"
      ],
      "text/plain": [
       "                     date  delay  distance origin destination\n",
       "0     2001-01-13 14:56:00     32       417    SAN         SJC\n",
       "1     2001-01-31 16:40:00      0      1093    FLL         ISP\n",
       "2     2001-02-11 18:39:00      3       293    LBB         DAL\n",
       "3     2001-01-10 21:00:00      0       550    MSY         MCO\n",
       "4     2001-03-30 21:45:00      0       229    STL         IND\n",
       "...                   ...    ...       ...    ...         ...\n",
       "19995 2001-03-22 15:10:00      4       446    SAN         OAK\n",
       "19996 2001-01-19 13:05:00      0      1489    SEA         MCI\n",
       "19997 2001-02-07 11:37:00      0      1848    MCO         PHX\n",
       "19998 2001-02-24 16:50:00     42       443    RDU         BNA\n",
       "19999 2001-03-14 11:33:00      0       328    ABQ         PHX\n",
       "\n",
       "[20000 rows x 5 columns]"
      ]
     },
     "execution_count": 147,
     "metadata": {},
     "output_type": "execute_result"
    }
   ],
   "source": [
    "flights = data.flights_20k()\n",
    "flights.delay = np.where(flights.delay < 0, 0, flights.delay)\n",
    "flights"
   ]
  },
  {
   "cell_type": "markdown",
   "id": "7908e5c6",
   "metadata": {},
   "source": [
    "# 3b. \n",
    " - Which hour of the day has the highest average delay?"
   ]
  },
  {
   "cell_type": "code",
   "execution_count": 151,
   "id": "22c2701a",
   "metadata": {},
   "outputs": [
    {
     "data": {
      "text/plain": [
       "date\n",
       "0   127.92\n",
       "1   170.00\n",
       "3   302.50\n",
       "Name: delay, dtype: float64"
      ]
     },
     "execution_count": 151,
     "metadata": {},
     "output_type": "execute_result"
    }
   ],
   "source": [
    "flights.groupby(flights.date.dt.hour).delay.mean().sort_values().tail(3)"
   ]
  },
  {
   "cell_type": "markdown",
   "id": "df248cd1",
   "metadata": {},
   "source": [
    "# 3c.\n",
    " - Does the day of the week make a difference in the delay amount?"
   ]
  },
  {
   "cell_type": "code",
   "execution_count": 152,
   "id": "5db46922",
   "metadata": {},
   "outputs": [
    {
     "data": {
      "text/plain": [
       "date\n",
       "Monday       7.17\n",
       "Saturday     8.43\n",
       "Tuesday      9.41\n",
       "Sunday      10.41\n",
       "Wednesday   11.03\n",
       "Thursday    12.82\n",
       "Friday      17.76\n",
       "Name: delay, dtype: float64"
      ]
     },
     "execution_count": 152,
     "metadata": {},
     "output_type": "execute_result"
    }
   ],
   "source": [
    "flights.groupby(flights.date.dt.day_name()).delay.mean().sort_values()"
   ]
  },
  {
   "cell_type": "markdown",
   "id": "91bfae26",
   "metadata": {},
   "source": [
    "Yes, but slightly. Friday has the biggest difference."
   ]
  },
  {
   "cell_type": "markdown",
   "id": "e423ffa2",
   "metadata": {},
   "source": [
    "# 3d.\n",
    " - Does the month make a difference in the delay amount?"
   ]
  },
  {
   "cell_type": "code",
   "execution_count": 155,
   "id": "6872541f",
   "metadata": {},
   "outputs": [
    {
     "data": {
      "text/plain": [
       "date\n",
       "March       9.88\n",
       "January    11.30\n",
       "February   12.31\n",
       "Name: delay, dtype: float64"
      ]
     },
     "execution_count": 155,
     "metadata": {},
     "output_type": "execute_result"
    }
   ],
   "source": [
    "flights.groupby(flights.date.dt.month_name()).delay.mean().sort_values()"
   ]
  },
  {
   "cell_type": "markdown",
   "id": "3f403037",
   "metadata": {},
   "source": [
    "Slighty. Day of the week makes a bigger difference, but February has the most delays by a small margin."
   ]
  },
  {
   "cell_type": "markdown",
   "id": "8fa7f8e1",
   "metadata": {},
   "source": [
    "____\n",
    "\n",
    "## Bonus # 1:"
   ]
  },
  {
   "cell_type": "code",
   "execution_count": 157,
   "id": "be71f010",
   "metadata": {},
   "outputs": [
    {
     "data": {
      "text/html": [
       "<div>\n",
       "<style scoped>\n",
       "    .dataframe tbody tr th:only-of-type {\n",
       "        vertical-align: middle;\n",
       "    }\n",
       "\n",
       "    .dataframe tbody tr th {\n",
       "        vertical-align: top;\n",
       "    }\n",
       "\n",
       "    .dataframe thead th {\n",
       "        text-align: right;\n",
       "    }\n",
       "</style>\n",
       "<table border=\"1\" class=\"dataframe\">\n",
       "  <thead>\n",
       "    <tr style=\"text-align: right;\">\n",
       "      <th></th>\n",
       "      <th>year</th>\n",
       "      <th>source</th>\n",
       "      <th>net_generation</th>\n",
       "    </tr>\n",
       "  </thead>\n",
       "  <tbody>\n",
       "    <tr>\n",
       "      <th>0</th>\n",
       "      <td>2001-01-01</td>\n",
       "      <td>Fossil Fuels</td>\n",
       "      <td>35361</td>\n",
       "    </tr>\n",
       "    <tr>\n",
       "      <th>1</th>\n",
       "      <td>2002-01-01</td>\n",
       "      <td>Fossil Fuels</td>\n",
       "      <td>35991</td>\n",
       "    </tr>\n",
       "    <tr>\n",
       "      <th>2</th>\n",
       "      <td>2003-01-01</td>\n",
       "      <td>Fossil Fuels</td>\n",
       "      <td>36234</td>\n",
       "    </tr>\n",
       "    <tr>\n",
       "      <th>3</th>\n",
       "      <td>2004-01-01</td>\n",
       "      <td>Fossil Fuels</td>\n",
       "      <td>36205</td>\n",
       "    </tr>\n",
       "    <tr>\n",
       "      <th>4</th>\n",
       "      <td>2005-01-01</td>\n",
       "      <td>Fossil Fuels</td>\n",
       "      <td>36883</td>\n",
       "    </tr>\n",
       "  </tbody>\n",
       "</table>\n",
       "</div>"
      ],
      "text/plain": [
       "        year        source  net_generation\n",
       "0 2001-01-01  Fossil Fuels           35361\n",
       "1 2002-01-01  Fossil Fuels           35991\n",
       "2 2003-01-01  Fossil Fuels           36234\n",
       "3 2004-01-01  Fossil Fuels           36205\n",
       "4 2005-01-01  Fossil Fuels           36883"
      ]
     },
     "execution_count": 157,
     "metadata": {},
     "output_type": "execute_result"
    }
   ],
   "source": [
    "from vega_datasets import data\n",
    "electricity = data.iowa_electricity()\n",
    "electricity.head()"
   ]
  },
  {
   "cell_type": "markdown",
   "id": "6ed67681",
   "metadata": {},
   "source": [
    "### 1a.\n",
    "- For each row, calculate the percentage of the year's total that energy source provided."
   ]
  }
 ],
 "metadata": {
  "kernelspec": {
   "display_name": "Python 3.8.8 64-bit ('base': conda)",
   "language": "python",
   "name": "python388jvsc74a57bd0b64057e63add2b45b1ffc7eab9b09c8889b419c878e2fdf0d08f837f0fc857a7"
  },
  "language_info": {
   "codemirror_mode": {
    "name": "ipython",
    "version": 3
   },
   "file_extension": ".py",
   "mimetype": "text/x-python",
   "name": "python",
   "nbconvert_exporter": "python",
   "pygments_lexer": "ipython3",
   "version": "3.8.8"
  }
 },
 "nbformat": 4,
 "nbformat_minor": 5
}
