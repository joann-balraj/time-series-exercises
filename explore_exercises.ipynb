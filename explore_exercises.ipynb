{
 "cells": [
  {
   "cell_type": "markdown",
   "id": "6896b0d5",
   "metadata": {},
   "source": [
    "# Time Series: Exploratory Analysis Exercises\n",
    "\n",
    "_______\n",
    "\n",
    "\n",
    "### Do your work for this exercise in a notebook named `explore`. Use the techniques in the lesson to explore the ***store item demand dataset and the opsd dataset.***\n",
    "\n",
    "> - For the **store item demand data**, you will need to choose a method of aggregating such that each observation is a unique date. \n",
    ">- For both datasets you should choose a method of splitting your data and only explore the training split."
   ]
  },
  {
   "cell_type": "code",
   "execution_count": 22,
   "id": "c87cc680",
   "metadata": {},
   "outputs": [],
   "source": [
    "import acquire\n",
    "import prepare\n",
    "\n",
    "import matplotlib as mpl\n",
    "import matplotlib.pyplot as plt\n",
    "import numpy as np\n",
    "import pandas as pd\n",
    "plt.ion()"
   ]
  },
  {
   "cell_type": "markdown",
   "id": "df883e55",
   "metadata": {},
   "source": [
    "## Store Items Dataset"
   ]
  },
  {
   "cell_type": "code",
   "execution_count": null,
   "id": "b354f4f7",
   "metadata": {},
   "outputs": [],
   "source": [
    "items_df = acquire.combine_sales_stores_items_data()\n",
    "items_df.head()"
   ]
  },
  {
   "cell_type": "code",
   "execution_count": 10,
   "id": "f586d6fe",
   "metadata": {},
   "outputs": [
    {
     "data": {
      "text/plain": [
       "(Timestamp('2013-01-01 00:00:00+0000', tz='UTC'),\n",
       " Timestamp('2017-12-31 00:00:00+0000', tz='UTC'))"
      ]
     },
     "execution_count": 10,
     "metadata": {},
     "output_type": "execute_result"
    }
   ],
   "source": [
    "# reassign the sale_date column to be a datetime type\n",
    "items_df.sale_date = pd.to_datetime(items_df.sale_date)\n",
    "\n",
    "# set the index and sort, so that we know it's in chronological order.\n",
    "items_df = items_df.set_index('sale_date').sort_index()\n",
    "\n",
    "# is it correct?\n",
    "items_df.index.min(), items_df.index.max()"
   ]
  },
  {
   "cell_type": "code",
   "execution_count": 11,
   "id": "1165cfc2",
   "metadata": {},
   "outputs": [
    {
     "name": "stdout",
     "output_type": "stream",
     "text": [
      "<class 'pandas.core.frame.DataFrame'>\n",
      "DatetimeIndex: 913000 entries, 2013-01-01 00:00:00+00:00 to 2017-12-31 00:00:00+00:00\n",
      "Data columns (total 15 columns):\n",
      " #   Column         Non-Null Count   Dtype  \n",
      "---  ------         --------------   -----  \n",
      " 0   item           913000 non-null  int64  \n",
      " 1   sale_amount    913000 non-null  float64\n",
      " 2   sale_id        913000 non-null  int64  \n",
      " 3   store          913000 non-null  int64  \n",
      " 4   store_address  913000 non-null  object \n",
      " 5   store_city     913000 non-null  object \n",
      " 6   store_id       913000 non-null  int64  \n",
      " 7   store_state    913000 non-null  object \n",
      " 8   store_zipcode  913000 non-null  object \n",
      " 9   item_brand     365200 non-null  object \n",
      " 10  item_id        365200 non-null  float64\n",
      " 11  item_name      365200 non-null  object \n",
      " 12  item_price     365200 non-null  float64\n",
      " 13  item_upc12     365200 non-null  object \n",
      " 14  item_upc14     365200 non-null  object \n",
      "dtypes: float64(3), int64(4), object(8)\n",
      "memory usage: 111.5+ MB\n"
     ]
    }
   ],
   "source": [
    "items_df.info()"
   ]
  },
  {
   "cell_type": "markdown",
   "id": "f092b5c2",
   "metadata": {},
   "source": [
    "____\n",
    "\n",
    "### Train Test Split \n",
    "- Train will be all data before the last year of data\n",
    "- Test will be last year of data"
   ]
  },
  {
   "cell_type": "code",
   "execution_count": 13,
   "id": "a0db8713",
   "metadata": {},
   "outputs": [
    {
     "data": {
      "image/png": "[encoded data removed]",
      "text/plain": [
       "<Figure size 432x288 with 1 Axes>"
      ]
     },
     "metadata": {
      "needs_background": "light"
     },
     "output_type": "display_data"
    }
   ],
   "source": [
    "train = items_df.loc[:'2016'] # includes 2016\n",
    "test = items_df.loc['2017']\n",
    "\n",
    "plt.plot(train.index, train.sale_amount);\n",
    "plt.plot(test.index, test.sale_amount);"
   ]
  },
  {
   "cell_type": "code",
   "execution_count": 14,
   "id": "d1d594de",
   "metadata": {},
   "outputs": [
    {
     "data": {
      "text/plain": [
       "((730500, 15), (182500, 15))"
      ]
     },
     "execution_count": 14,
     "metadata": {},
     "output_type": "execute_result"
    }
   ],
   "source": [
    "train.shape, test.shape"
   ]
  },
  {
   "cell_type": "code",
   "execution_count": 15,
   "id": "8a35d4c5",
   "metadata": {},
   "outputs": [
    {
     "data": {
      "text/plain": [
       "sale_date\n",
       "2013-01-01 00:00:00+00:00    13.0\n",
       "2013-01-01 00:00:00+00:00    26.0\n",
       "2013-01-01 00:00:00+00:00    27.0\n",
       "2013-01-01 00:00:00+00:00    54.0\n",
       "2013-01-01 00:00:00+00:00    35.0\n",
       "Name: sale_amount, dtype: float64"
      ]
     },
     "execution_count": 15,
     "metadata": {},
     "output_type": "execute_result"
    }
   ],
   "source": [
    "# for ease of use, renaming sale_amount to y\n",
    "y = train.sale_amount\n",
    "y.head()"
   ]
  },
  {
   "cell_type": "code",
   "execution_count": 16,
   "id": "ba89434e",
   "metadata": {},
   "outputs": [
    {
     "data": {
      "image/png": "[encoded data removed]",
      "text/plain": [
       "<Figure size 432x288 with 1 Axes>"
      ]
     },
     "metadata": {
      "needs_background": "light"
     },
     "output_type": "display_data"
    }
   ],
   "source": [
    "# the distribution of our target variable (sale_amount)\n",
    "y.plot.hist();"
   ]
  },
  {
   "cell_type": "code",
   "execution_count": 21,
   "id": "28309cf5",
   "metadata": {},
   "outputs": [
    {
     "data": {
      "image/png": "[encoded data removed]",
      "text/plain": [
       "<Figure size 432x288 with 1 Axes>"
      ]
     },
     "metadata": {
      "needs_background": "light"
     },
     "output_type": "display_data"
    }
   ],
   "source": [
    "ax = y.groupby(y.index.month).mean().plot.bar(width=.7, ec='black')\n",
    "plt.xticks(rotation=0)\n",
    "ax.set(title='Average Sales by Month', xlabel='Month', ylabel='Sale Amount');"
   ]
  },
  {
   "cell_type": "code",
   "execution_count": 20,
   "id": "efbec8ca",
   "metadata": {},
   "outputs": [
    {
     "data": {
      "image/png": "[encoded data removed]",
      "text/plain": [
       "<Figure size 432x288 with 1 Axes>"
      ]
     },
     "metadata": {
      "needs_background": "light"
     },
     "output_type": "display_data"
    }
   ],
   "source": [
    "y.groupby(y.index.day_name()).mean().plot.bar(width=.7, ec='black')\n",
    "plt.xticks(rotation=0)\n",
    "ax.set(title='Average Sales by Weekday', xlabel='Weekday', ylabel='Sales Amount');"
   ]
  },
  {
   "cell_type": "code",
   "execution_count": null,
   "id": "35fef27f",
   "metadata": {},
   "outputs": [],
   "source": [
    "y.plot();"
   ]
  },
  {
   "cell_type": "code",
   "execution_count": null,
   "id": "f6cb47df",
   "metadata": {},
   "outputs": [],
   "source": [
    "y.resample('M').mean().plot(title='Monthly average');"
   ]
  },
  {
   "cell_type": "code",
   "execution_count": null,
   "id": "5ea7d6ba",
   "metadata": {},
   "outputs": [],
   "source": [
    "y.resample('2W').mean().plot(title='2 week average');"
   ]
  },
  {
   "cell_type": "code",
   "execution_count": null,
   "id": "340788fd",
   "metadata": {},
   "outputs": [],
   "source": [
    "#y.plot(alpha=.2, label='Hourly')\n",
    "y.resample('D').mean().plot(alpha=.5, label='Daily')\n",
    "y.resample('W').mean().plot(alpha=.8, label='Weekly')\n",
    "y.resample('M').mean().plot(label='Montly')\n",
    "y.resample('Y').mean().plot(label='Yearly')\n",
    "plt.legend();"
   ]
  },
  {
   "cell_type": "code",
   "execution_count": null,
   "id": "8ac813a0",
   "metadata": {},
   "outputs": [],
   "source": [
    "#y.plot(alpha=.2, label='Hourly')\n",
    "y.resample('D').mean().rolling(3).mean().plot(alpha=.5, label='3 day')\n",
    "y.resample('D').mean().rolling(7).mean().plot(alpha=8, label='1 week')\n",
    "plt.legend();"
   ]
  },
  {
   "cell_type": "code",
   "execution_count": null,
   "id": "aa3683a8",
   "metadata": {},
   "outputs": [],
   "source": [
    "y.resample('W').mean().diff().plot(title='Average week-to-week change in sales');"
   ]
  },
  {
   "cell_type": "code",
   "execution_count": null,
   "id": "6bd9a4ba",
   "metadata": {},
   "outputs": [],
   "source": [
    "y.resample('M').mean().diff().plot(title='Average month-to-month change in sales');"
   ]
  },
  {
   "cell_type": "code",
   "execution_count": null,
   "id": "77411e4f",
   "metadata": {},
   "outputs": [],
   "source": [
    "# .unstack turns an index level into columns\n",
    "y.groupby([y.index.year, y.index.month]).mean().unstack(0).plot(title='Seasonal Plot');"
   ]
  },
  {
   "cell_type": "code",
   "execution_count": null,
   "id": "48cd3fe1",
   "metadata": {},
   "outputs": [],
   "source": [
    "table = y.groupby([y.index.year, y.index.month]).mean().unstack()\n",
    "\n",
    "fig, axs = plt.subplots(1, 12, sharey=True, sharex=True)\n",
    "for ax, (month, subset) in zip(axs, table.iteritems()):\n",
    "    subset.plot(ax=ax, title=month)\n",
    "    ax.hlines(subset.mean(), *ax.get_xlim())\n",
    "    ax.set(xlabel='')\n",
    "\n",
    "fig.suptitle('Seasonal Subseries Plot') # super-title for the overall figure\n",
    "fig.subplots_adjust(wspace=0);"
   ]
  },
  {
   "cell_type": "code",
   "execution_count": null,
   "id": "f6c8a16e",
   "metadata": {},
   "outputs": [],
   "source": [
    "plt.scatter(y, y.shift(-1))\n",
    "plt.xlabel('$y$')\n",
    "plt.ylabel('$y_{t + 1}$')\n",
    "plt.title('Lag plot with lag=1');"
   ]
  },
  {
   "cell_type": "code",
   "execution_count": null,
   "id": "9308b083",
   "metadata": {},
   "outputs": [],
   "source": [
    "train['y(t + 1)'] = train.sale_amount.shift(-1)\n",
    "ax = train.plot.scatter(x='sale_amount', y='y(t + 1)')\n",
    "ax.set(xlabel='t', ylabel='t + 1');"
   ]
  },
  {
   "cell_type": "code",
   "execution_count": null,
   "id": "780fca3a",
   "metadata": {},
   "outputs": [],
   "source": [
    "pd.plotting.autocorrelation_plot(train.sale_amount.resample('W').mean());"
   ]
  },
  {
   "cell_type": "code",
   "execution_count": null,
   "id": "b1c8155f",
   "metadata": {},
   "outputs": [],
   "source": [
    "import statsmodels.api as sm\n",
    "\n",
    "y = train.sale_amount.resample('W').mean()\n",
    "\n",
    "result = sm.tsa.seasonal_decompose(y)\n",
    "decomposition = pd.DataFrame({\n",
    "    'y': result.observed,\n",
    "    'trend': result.trend,\n",
    "    'seasonal': result.seasonal,\n",
    "    'resid': result.resid,\n",
    "})\n",
    "decomposition.head();"
   ]
  },
  {
   "cell_type": "code",
   "execution_count": null,
   "id": "dc399574",
   "metadata": {},
   "outputs": [],
   "source": [
    "decomposition.iloc[:, 1:].plot();"
   ]
  },
  {
   "cell_type": "code",
   "execution_count": null,
   "id": "84a089ec",
   "metadata": {},
   "outputs": [],
   "source": [
    "result.plot();"
   ]
  },
  {
   "cell_type": "markdown",
   "id": "4379b27e",
   "metadata": {},
   "source": [
    "____\n",
    "\n",
    "\n",
    "## OPS Dataset"
   ]
  },
  {
   "cell_type": "code",
   "execution_count": null,
   "id": "71cd2044",
   "metadata": {},
   "outputs": [],
   "source": []
  }
 ],
 "metadata": {
  "kernelspec": {
   "display_name": "Python 3.8.8 64-bit ('base': conda)",
   "language": "python",
   "name": "python388jvsc74a57bd0b64057e63add2b45b1ffc7eab9b09c8889b419c878e2fdf0d08f837f0fc857a7"
  },
  "language_info": {
   "codemirror_mode": {
    "name": "ipython",
    "version": 3
   },
   "file_extension": ".py",
   "mimetype": "text/x-python",
   "name": "python",
   "nbconvert_exporter": "python",
   "pygments_lexer": "ipython3",
   "version": "3.8.8"
  }
 },
 "nbformat": 4,
 "nbformat_minor": 5
}
